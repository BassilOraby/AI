{
 "cells": [
  {
   "cell_type": "markdown",
   "metadata": {},
   "source": [
    "# <u>Artificial Neural Network Implementation Using PyTorch Framework</u>"
   ]
  },
  {
   "cell_type": "code",
   "execution_count": 1,
   "metadata": {
    "execution": {
     "iopub.execute_input": "2023-09-20T07:47:29.009353Z",
     "iopub.status.busy": "2023-09-20T07:47:29.008979Z",
     "iopub.status.idle": "2023-09-20T07:47:34.579085Z",
     "shell.execute_reply": "2023-09-20T07:47:34.578152Z",
     "shell.execute_reply.started": "2023-09-20T07:47:29.009324Z"
    }
   },
   "outputs": [],
   "source": [
    "import numpy as np \n",
    "import pandas as pd \n",
    "import torch\n",
    "from torch.utils.data import Dataset\n",
    "from torchvision import datasets\n",
    "from torchvision import transforms\n",
    "from torchvision.transforms import ToTensor , Lambda\n",
    "from sklearn.model_selection import train_test_split\n",
    "from torch.utils.data import SubsetRandomSampler\n",
    "import os\n",
    "from torch import nn\n",
    "import matplotlib.pyplot as plt"
   ]
  },
  {
   "cell_type": "code",
   "execution_count": 2,
   "metadata": {
    "execution": {
     "iopub.execute_input": "2023-09-20T07:47:34.581736Z",
     "iopub.status.busy": "2023-09-20T07:47:34.580964Z",
     "iopub.status.idle": "2023-09-20T07:47:34.591289Z",
     "shell.execute_reply": "2023-09-20T07:47:34.590130Z",
     "shell.execute_reply.started": "2023-09-20T07:47:34.581700Z"
    }
   },
   "outputs": [
    {
     "name": "stdout",
     "output_type": "stream",
     "text": [
      "/kaggle/input/mnist-dataset/sample_submission.csv\n",
      "/kaggle/input/mnist-dataset/train.csv\n",
      "/kaggle/input/mnist-dataset/test.csv\n"
     ]
    }
   ],
   "source": [
    "path = '/kaggle/input/mnist-dataset'\n",
    "for dirname, _, filenames in os.walk(f'{path}'):\n",
    "    for filename in filenames:\n",
    "        print(os.path.join(dirname, filename))"
   ]
  },
  {
   "cell_type": "code",
   "execution_count": null,
   "metadata": {
    "execution": {
     "iopub.execute_input": "2023-09-20T07:47:34.593184Z",
     "iopub.status.busy": "2023-09-20T07:47:34.592838Z"
    }
   },
   "outputs": [],
   "source": [
    "train_df = pd.read_csv(f\"{path}/train.csv\")\n",
    "test_df = pd.read_csv(f\"{path}/test.csv\")\n",
    "print(train_df.shape , test_df.shape)\n",
    "print(\"Train Cols : \" , train_df.columns)\n",
    "print(\"Test Cols : \" , test_df.columns)\n",
    "print(\" Label -  \" , [i for i in train_df.columns if i not in test_df.columns] )"
   ]
  },
  {
   "cell_type": "code",
   "execution_count": null,
   "metadata": {},
   "outputs": [],
   "source": [
    "#Pytorch Dataset Class\n",
    "class CustomMNISTDataset(Dataset):\n",
    "    def __init__(self, csv_name, img_dir, transform=None, target_transform=None , label_name = \"label\"):\n",
    "        \n",
    "        self.img_filename = csv_name\n",
    "        self.img_dir = img_dir\n",
    "        self.transform = transform\n",
    "        self.target_transform = target_transform\n",
    "        self.label_name = label_name\n",
    "        \n",
    "        img_path = os.path.join(self.img_dir, self.img_filename)\n",
    "        self.img_df = pd.read_csv(img_path)\n",
    "\n",
    "    def __len__(self):\n",
    "        return len(self.img_df)\n",
    "\n",
    "    def __getitem__(self, idx):\n",
    "        \n",
    "        # Extracting all the other columns except label_name\n",
    "        img_cols = [ i for i in self.img_df.columns if i not in self.label_name]\n",
    "        \n",
    "        image = self.img_df.iloc[[idx]][img_cols].values\n",
    "\n",
    "        # Reshaping the array from 1*784 to 28*28\n",
    "        image = image.reshape(28,28)\n",
    "        # image = image.astype(float)\n",
    "\n",
    "        # Scaling the image so that the values only range between 0 and 1\n",
    "        image = image/255.0\n",
    "        \n",
    "        \n",
    "        if self.transform:\n",
    "            image = self.transform(image)\n",
    "    \n",
    "        image = image.to(torch.float)    \n",
    "        \n",
    "        if self.label_name in self.img_df.columns:\n",
    "            label = int(self.img_df.iloc[[idx]][self.label_name].values)\n",
    "            if self.target_transform:\n",
    "                label = self.target_transform(label)\n",
    "            return image, label\n",
    "        \n",
    "        # Exceptions for test where labels are absent\n",
    "        else :\n",
    "            return image"
   ]
  },
  {
   "cell_type": "code",
   "execution_count": null,
   "metadata": {},
   "outputs": [],
   "source": [
    "#Targets distribution check\n",
    "train_df['label'].value_counts().sort_index()"
   ]
  },
  {
   "cell_type": "code",
   "execution_count": null,
   "metadata": {},
   "outputs": [],
   "source": [
    "indices = list(range(len(train_df)))\n",
    "\n",
    "train_indices , test_indices = train_test_split(indices, test_size=0.1, stratify=train_df['label'])\n",
    "\n",
    "print(len(train_indices))\n",
    "print(len(test_indices))\n",
    "print(len(train_df))\n",
    "\n",
    "train_subset = train_df.loc[train_indices]\n",
    "val_subset = train_df.loc[test_indices]\n",
    "\n",
    "print(\"Distribution of target values in training dataset ; \")\n",
    "print( train_subset['label'].value_counts().sort_index() / train_subset['label'].value_counts().sort_index().sum() )\n",
    "\n",
    "print(\"Distribution of target values in validation dataset ; \")\n",
    "print( val_subset['label'].value_counts().sort_index() / val_subset['label'].value_counts().sort_index().sum() )"
   ]
  },
  {
   "cell_type": "code",
   "execution_count": null,
   "metadata": {},
   "outputs": [],
   "source": [
    "# Creating a temp dataset\n",
    "train_csv_name = \"train.csv\"\n",
    "test_csv_name = \"test.csv\"\n",
    "img_dir = path\n",
    "\n",
    "# Converting X variables to Tensors\n",
    "transforms = transforms.Compose( [transforms.ToTensor() ,] )\n",
    "\n",
    "# Converting y-labels to one hot encoding\n",
    "target_transform = Lambda(lambda y: torch.zeros(\n",
    "    len(train_df['label'].unique()), dtype=torch.float).scatter_(dim=0, index=torch.tensor(y), value=1))\n",
    "\n",
    "label_name = \"label\"\n",
    "\n",
    "train_dataset = CustomMNISTDataset(csv_name = train_csv_name , img_dir = img_dir , transform = transforms , target_transform = target_transform , label_name = label_name)"
   ]
  },
  {
   "cell_type": "code",
   "execution_count": null,
   "metadata": {},
   "outputs": [],
   "source": [
    "# Inspecting the first line item under dataset\n",
    "x0 , y0 = train_dataset[0]\n",
    "print(x0.shape, y0)"
   ]
  },
  {
   "cell_type": "code",
   "execution_count": null,
   "metadata": {},
   "outputs": [],
   "source": [
    "# Ploting some of the datapoints in the dataset\n",
    "import matplotlib.pyplot as plt\n",
    "\n",
    "figure = plt.figure(figsize=(8, 8))\n",
    "cols, rows = 3, 3\n",
    "figure.add_subplot(rows, cols, 1)\n",
    "for i in range(1, cols * rows + 1):\n",
    "    sample_idx = torch.randint(len(train_dataset), size=(1,)).item()\n",
    "    sample_img , sample_lbl = train_dataset[sample_idx]\n",
    "    figure.add_subplot(rows, cols, i)\n",
    "    plt.title(sample_lbl)\n",
    "    plt.axis(\"off\")\n",
    "    plt.imshow(sample_img.squeeze(), cmap=\"gray\")\n",
    "plt.show()"
   ]
  },
  {
   "cell_type": "code",
   "execution_count": null,
   "metadata": {},
   "outputs": [],
   "source": [
    "## Checking if a GPU exists in the current pc. \n",
    "\n",
    "device = torch.device('cuda' if torch.cuda.is_available() else 'cpu')\n",
    "print('Using device:', device)\n",
    "x0 = x0.to(device)\n",
    "print(\"x0\" , x0.is_cuda)\n"
   ]
  },
  {
   "cell_type": "code",
   "execution_count": null,
   "metadata": {},
   "outputs": [],
   "source": [
    "# Creating PT data samplers and loaders:\n",
    "train_sampler = SubsetRandomSampler(train_indices)\n",
    "valid_sampler = SubsetRandomSampler(test_indices)\n",
    "\n",
    "train_dataloader = torch.utils.data.DataLoader(train_dataset , batch_size=1, sampler=train_sampler, num_workers=8)\n",
    "valid_dataloader = torch.utils.data.DataLoader(train_dataset, batch_size=1, sampler=valid_sampler, num_workers=8)\n",
    "\n",
    "x0 , y0 = next(iter(train_dataloader))\n",
    "print(x0, y0)"
   ]
  },
  {
   "cell_type": "code",
   "execution_count": null,
   "metadata": {},
   "outputs": [],
   "source": [
    "class MyNeuralNetwork(nn.Module):\n",
    "    def __init__(self, sizes, epochs, lr):\n",
    "        super(MyNeuralNetwork, self).__init__()\n",
    "        self.flatten = nn.Flatten()\n",
    "        self.sizes = sizes\n",
    "        self.epochs = epochs\n",
    "        self.lr = lr\n",
    "        \n",
    "        # number of nodes in each layer\n",
    "        input_layer=self.sizes[0]\n",
    "        hidden_1=self.sizes[1]\n",
    "        hidden_2=self.sizes[2]\n",
    "        output_layer=self.sizes[3]\n",
    "\n",
    "        self.params = {\n",
    "            'W1':torch.randn(hidden_1, input_layer) * np.sqrt(1. / hidden_1),\n",
    "            'W2':torch.randn(hidden_2, hidden_1) * np.sqrt(1. / hidden_2),\n",
    "            'W3':torch.randn(output_layer, hidden_2) * np.sqrt(1. / output_layer)\n",
    "        }\n",
    "\n",
    "    def sigmoid(self, x, derivative=False):\n",
    "        if derivative:\n",
    "            return (torch.exp(-x))/((torch.exp(-x)+1)**2)\n",
    "        return 1/(1 + torch.exp(-x))\n",
    "\n",
    "    def softmax(self, x, derivative=False):\n",
    "      # Numerically stable with large exponentials\n",
    "        exps = torch.exp(x - x.max())\n",
    "        if derivative:\n",
    "            return exps / torch.sum(exps, axis=1) * (1 - exps / torch.sum(exps, axis=1))\n",
    "        return exps / torch.sum(exps, axis=1)\n",
    "    \n",
    "    def cross_entropy_loss(self, y_true, y_pred, derivative=False):\n",
    "      # Clip the prediction values to prevent log(0) error\n",
    "        y_pred = torch.clip(y_pred, 1e-15, 1 - 1e-15)\n",
    "        if derivative:\n",
    "            return -(y_true/y_pred)\n",
    "      # Calculate the cross-entropy loss for each sample\n",
    "        loss = -torch.sum(y_true * torch.log(y_pred), axis=1)\n",
    "      # Return the average loss over the batch\n",
    "        return torch.mean(loss)\n",
    "\n",
    "    \n",
    "    def forward(self, X):\n",
    "        params = self.params\n",
    "        params['A0'] = self.flatten(X)\n",
    "        params['Z1'] = torch.matmul(params['A0'], torch.t(params['W1']))\n",
    "        params['A1'] = self.sigmoid(params['Z1'])\n",
    "        params['Z2'] = torch.matmul(params['A1'], torch.t(params['W2']))\n",
    "        params['A2'] = self.sigmoid(params['Z2'])\n",
    "        params['Z3'] = torch.matmul(params['A2'], torch.t(params['W3']))\n",
    "        params['O'] = self.softmax(params['Z3'])\n",
    "        #print(f\"output --- {params['O']}\")\n",
    "        return params['O']\n",
    "    \n",
    "    def backward(self, y_train, output):\n",
    "        params = self.params\n",
    "        change_w = {}\n",
    "\n",
    "        # Calculate W3 update\n",
    "        error = self.cross_entropy_loss(y_train, output, derivative=True) * self.softmax(params['O'], derivative=True)\n",
    "        #print(error.shape)\n",
    "        #print(params['Z3'].shape)\n",
    "        change_w['W3'] = torch.matmul(torch.t(params['A2']), error)\n",
    "        #print(f\"W3 --- {change_w['W3'].shape}\")\n",
    "\n",
    "        # Calculate W2 update\n",
    "        error = torch.matmul(error, params['W3']) * self.sigmoid(params['A2'], derivative=True)\n",
    "        #print(f\"shape error --- {(torch.flatten(error)).shape}\")\n",
    "        #print(error)\n",
    "        #print(f\"shape params --- {(torch.flatten(params['A1'])).shape}\")\n",
    "        change_w['W2'] = torch.matmul(torch.t(params['A1']), error)\n",
    "        #print(f\"W2 --- {change_w['W2'].shape}\")\n",
    "        \n",
    "        # Calculate W1 update\n",
    "        error = torch.matmul(error, params['W2']) * self.sigmoid(params['A1'], derivative=True)\n",
    "        change_w['W1'] = torch.matmul(torch.t(params['A0']), error)\n",
    "        #print(f\"W1 --- {change_w['W1'].shape}\")\n",
    "\n",
    "        return change_w\n",
    "\n",
    "    def update_network_parameters(self, changes_to_w):      \n",
    "        for key, value in changes_to_w.items():\n",
    "            self.params[key] -= self.lr * torch.t(value)\n",
    "            \n",
    "    def train(self, X, y):\n",
    "        o = self.forward(X)\n",
    "        c_w = self.backward(y, o)\n",
    "        self.update_network_parameters(c_w)\n",
    "        return o\n",
    "    \n",
    "    def saveWeights(self, model):\n",
    "        torch.save(model, \"NN\")\n",
    "        \n",
    "    def predict(self, x_test):\n",
    "        print (\"Predicted data based on trained weights: \")\n",
    "        print (\"Input (scaled): \\n\" + str(x_test))\n",
    "        print (\"Output: \\n\" + str(self.forward(x_test)))"
   ]
  },
  {
   "cell_type": "code",
   "execution_count": null,
   "metadata": {},
   "outputs": [],
   "source": [
    "NN = MyNeuralNetwork(sizes=[784, 128, 64, 10], epochs=10, lr=0.001)\n",
    "preds = torch.tensor([])\n",
    "pred_loss = []\n",
    "pred_true = []"
   ]
  },
  {
   "cell_type": "code",
   "execution_count": 14,
   "metadata": {
    "execution": {
     "iopub.status.idle": "2023-09-20T07:55:11.355509Z",
     "shell.execute_reply": "2023-09-20T07:55:11.354299Z",
     "shell.execute_reply.started": "2023-09-20T07:47:46.485587Z"
    }
   },
   "outputs": [
    {
     "name": "stdout",
     "output_type": "stream",
     "text": [
      "#200 Loss: 2.969630241394043\n",
      "#300 Loss: 2.8175833225250244\n",
      "#700 Loss: 2.551488161087036\n"
     ]
    }
   ],
   "source": [
    "for i in range(1000):\n",
    "    X, y = next(iter(train_dataloader))\n",
    "    X = (X * 0.99) + 0.01\n",
    "    if (i % 100) == 0:\n",
    "        print (\"#\" + str(i) + \" Loss: \" + str(NN.cross_entropy_loss(y, NN(X)).detach().item()))\n",
    "    o = NN.train(X, y)\n",
    "    pred_loss.append(NN.cross_entropy_loss(y, NN(X)).detach().item())\n",
    "    #pred = torch.argmax(o)\n",
    "    #preds = torch.cat((preds, pred == torch.argmax(y)), dim=0)\n",
    "#accuracy = torch.mean(preds)\n",
    "#print('Accuracy: {0:.2f}%'.format(\n",
    "#        accuracy * 100\n",
    "##     ))\n",
    "#NN.saveWeights(NN)\n",
    "#NN.predict(x0)"
   ]
  },
  {
   "cell_type": "code",
   "execution_count": 16,
   "metadata": {
    "execution": {
     "iopub.execute_input": "2023-09-20T09:31:33.505434Z",
     "iopub.status.busy": "2023-09-20T09:31:33.505007Z",
     "iopub.status.idle": "2023-09-20T09:31:33.815949Z",
     "shell.execute_reply": "2023-09-20T09:31:33.814799Z",
     "shell.execute_reply.started": "2023-09-20T09:31:33.505403Z"
    }
   },
   "outputs": [
    {
     "data": {
      "image/png": "[encoded data removed]",
      "text/plain": [
       "<Figure size 640x480 with 1 Axes>"
      ]
     },
     "metadata": {},
     "output_type": "display_data"
    }
   ],
   "source": [
    "plt.plot(list(np.arange(1000)), pred_loss)\n",
    "plt.xlabel(\"iterations\")\n",
    "plt.ylabel(\"loss\")\n",
    "plt.title(\"loss plot\")\n",
    "plt.show()"
   ]
  },
  {
   "cell_type": "code",
   "execution_count": null,
   "metadata": {},
   "outputs": [],
   "source": []
  }
 ],
 "metadata": {
  "kernelspec": {
   "display_name": "Python 3 (ipykernel)",
   "language": "python",
   "name": "python3"
  },
  "language_info": {
   "codemirror_mode": {
    "name": "ipython",
    "version": 3
   },
   "file_extension": ".py",
   "mimetype": "text/x-python",
   "name": "python",
   "nbconvert_exporter": "python",
   "pygments_lexer": "ipython3",
   "version": "3.10.4"
  }
 },
 "nbformat": 4,
 "nbformat_minor": 4
}
