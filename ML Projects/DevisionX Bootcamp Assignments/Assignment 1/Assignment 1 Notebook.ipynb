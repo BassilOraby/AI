{
 "cells": [
  {
   "cell_type": "code",
   "execution_count": 1,
   "metadata": {},
   "outputs": [],
   "source": [
    "from PIL import Image\n",
    "import cv2\n",
    "import numpy as np"
   ]
  },
  {
   "cell_type": "markdown",
   "metadata": {},
   "source": [
    "# 1) <u>Gaussian Filter</u>"
   ]
  },
  {
   "cell_type": "markdown",
   "metadata": {},
   "source": [
    "## 1.1) <u>Gaussian Filter From Scratch</u>"
   ]
  },
  {
   "cell_type": "code",
   "execution_count": 2,
   "metadata": {},
   "outputs": [],
   "source": [
    "def convolution(oldimage, kernel):\n",
    "    image_h = oldimage.shape[0]\n",
    "    image_w = oldimage.shape[1]\n",
    "    \n",
    "    \n",
    "    kernel_h = kernel.shape[0]\n",
    "    kernel_w = kernel.shape[1]\n",
    "    \n",
    "    if(len(oldimage.shape) == 3):\n",
    "        image_pad = np.pad(oldimage, pad_width=(\n",
    "            (kernel_h // 2, kernel_h // 2),(kernel_w // 2, \n",
    "            kernel_w // 2),(0,0)), mode='constant', \n",
    "            constant_values=0).astype(np.float32)\n",
    "    elif(len(oldimage.shape) == 2):\n",
    "        image_pad = np.pad(oldimage, pad_width=(\n",
    "            (kernel_h // 2, kernel_h // 2),(kernel_w // 2, \n",
    "            kernel_w // 2)), mode='constant', constant_values=0).astype(np.float32)\n",
    "    \n",
    "    \n",
    "    h = kernel_h // 2\n",
    "    w = kernel_w // 2\n",
    "    \n",
    "    image_conv = np.zeros(image_pad.shape)\n",
    "    \n",
    "    for i in range(h, image_pad.shape[0]-h):\n",
    "        for j in range(w, image_pad.shape[1]-w):\n",
    "            x = image_pad[i-h:i-h+kernel_h, j-w:j-w+kernel_w]\n",
    "            x = x.flatten()*kernel.flatten()\n",
    "            image_conv[i][j] = x.sum()\n",
    "    h_end = -h\n",
    "    w_end = -w\n",
    "    \n",
    "    if(h == 0):\n",
    "        return image_conv[h:,w:w_end]\n",
    "    if(w == 0):\n",
    "        return image_conv[h:h_end,w:]\n",
    "    \n",
    "    return image_conv[h:h_end,w:w_end]"
   ]
  },
  {
   "cell_type": "code",
   "execution_count": 3,
   "metadata": {},
   "outputs": [],
   "source": [
    "def GaussianBlurImage(image, sigma, flag = cv2.IMREAD_GRAYSCALE):\n",
    "    image = cv2.imread(image, flag)\n",
    "    image = np.asarray(image)\n",
    "    filter_size = 2 * int(4 * sigma + 0.5) + 1\n",
    "    gaussian_filter = np.zeros((filter_size, filter_size), np.float32)\n",
    "    m = filter_size//2\n",
    "    n = filter_size//2\n",
    "    \n",
    "    for x in range(-m, m+1):\n",
    "        for y in range(-n, n+1):\n",
    "            x1 = 2*np.pi*(sigma**2)\n",
    "            x2 = np.exp(-(x**2 + y**2)/(2* sigma**2))\n",
    "            gaussian_filter[x+m, y+n] = (1/x1)*x2\n",
    "    \n",
    "    im_filtered = np.zeros_like(image, dtype=np.float32)\n",
    "    try:\n",
    "        if image.shape[2] == 3:\n",
    "            for c in range(3):\n",
    "                im_filtered[:, :, c] = convolution(image[:, :, c], gaussian_filter)\n",
    "    except Exception as e:\n",
    "        im_filtered = convolution(image, gaussian_filter)\n",
    "    return (im_filtered.astype(np.uint8))"
   ]
  },
  {
   "cell_type": "code",
   "execution_count": 4,
   "metadata": {},
   "outputs": [
    {
     "ename": "KeyboardInterrupt",
     "evalue": "",
     "output_type": "error",
     "traceback": [
      "\u001b[1;31m---------------------------------------------------------------------------\u001b[0m",
      "\u001b[1;31mKeyboardInterrupt\u001b[0m                         Traceback (most recent call last)",
      "Cell \u001b[1;32mIn[4], line 3\u001b[0m\n\u001b[0;32m      1\u001b[0m img \u001b[39m=\u001b[39m Image\u001b[39m.\u001b[39mopen(\u001b[39m\"\u001b[39m\u001b[39mC:\u001b[39m\u001b[39m\\\\\u001b[39;00m\u001b[39mUsers\u001b[39m\u001b[39m\\\\\u001b[39;00m\u001b[39mBassilOraby\u001b[39m\u001b[39m\\\\\u001b[39;00m\u001b[39mDownloads\u001b[39m\u001b[39m\\\\\u001b[39;00m\u001b[39mLion.jpg\u001b[39m\u001b[39m\"\u001b[39m)\n\u001b[0;32m      2\u001b[0m img\u001b[39m.\u001b[39mshow()\n\u001b[1;32m----> 3\u001b[0m img_filtered \u001b[39m=\u001b[39m GaussianBlurImage(\u001b[39m\"\u001b[39;49m\u001b[39mC:\u001b[39;49m\u001b[39m\\\\\u001b[39;49;00m\u001b[39mUsers\u001b[39;49m\u001b[39m\\\\\u001b[39;49;00m\u001b[39mBassilOraby\u001b[39;49m\u001b[39m\\\\\u001b[39;49;00m\u001b[39mDownloads\u001b[39;49m\u001b[39m\\\\\u001b[39;49;00m\u001b[39mLion.jpg\u001b[39;49m\u001b[39m\"\u001b[39;49m, \u001b[39m4\u001b[39;49m, cv2\u001b[39m.\u001b[39;49mIMREAD_UNCHANGED)\n\u001b[0;32m      4\u001b[0m img_filtered_op \u001b[39m=\u001b[39m Image\u001b[39m.\u001b[39mfromarray(img_filtered)\n\u001b[0;32m      5\u001b[0m img_filtered_op\u001b[39m.\u001b[39mshow()\n",
      "Cell \u001b[1;32mIn[3], line 19\u001b[0m, in \u001b[0;36mGaussianBlurImage\u001b[1;34m(image, sigma, flag)\u001b[0m\n\u001b[0;32m     17\u001b[0m     \u001b[39mif\u001b[39;00m image\u001b[39m.\u001b[39mshape[\u001b[39m2\u001b[39m] \u001b[39m==\u001b[39m \u001b[39m3\u001b[39m:\n\u001b[0;32m     18\u001b[0m         \u001b[39mfor\u001b[39;00m c \u001b[39min\u001b[39;00m \u001b[39mrange\u001b[39m(\u001b[39m3\u001b[39m):\n\u001b[1;32m---> 19\u001b[0m             im_filtered[:, :, c] \u001b[39m=\u001b[39m convolution(image[:, :, c], gaussian_filter)\n\u001b[0;32m     20\u001b[0m \u001b[39mexcept\u001b[39;00m \u001b[39mException\u001b[39;00m \u001b[39mas\u001b[39;00m e:\n\u001b[0;32m     21\u001b[0m     im_filtered \u001b[39m=\u001b[39m convolution(image, gaussian_filter)\n",
      "Cell \u001b[1;32mIn[2], line 28\u001b[0m, in \u001b[0;36mconvolution\u001b[1;34m(oldimage, kernel)\u001b[0m\n\u001b[0;32m     26\u001b[0m     \u001b[39mfor\u001b[39;00m j \u001b[39min\u001b[39;00m \u001b[39mrange\u001b[39m(w, image_pad\u001b[39m.\u001b[39mshape[\u001b[39m1\u001b[39m]\u001b[39m-\u001b[39mw):\n\u001b[0;32m     27\u001b[0m         x \u001b[39m=\u001b[39m image_pad[i\u001b[39m-\u001b[39mh:i\u001b[39m-\u001b[39mh\u001b[39m+\u001b[39mkernel_h, j\u001b[39m-\u001b[39mw:j\u001b[39m-\u001b[39mw\u001b[39m+\u001b[39mkernel_w]\n\u001b[1;32m---> 28\u001b[0m         x \u001b[39m=\u001b[39m x\u001b[39m.\u001b[39mflatten()\u001b[39m*\u001b[39mkernel\u001b[39m.\u001b[39mflatten()\n\u001b[0;32m     29\u001b[0m         image_conv[i][j] \u001b[39m=\u001b[39m x\u001b[39m.\u001b[39msum()\n\u001b[0;32m     30\u001b[0m h_end \u001b[39m=\u001b[39m \u001b[39m-\u001b[39mh\n",
      "\u001b[1;31mKeyboardInterrupt\u001b[0m: "
     ]
    }
   ],
   "source": [
    "img = Image.open(\"C:\\\\Users\\\\BassilOraby\\\\Downloads\\\\Lion.jpg\")\n",
    "img.show()\n",
    "img_filtered = GaussianBlurImage(\"C:\\\\Users\\\\BassilOraby\\\\Downloads\\\\Lion.jpg\", 4, cv2.IMREAD_UNCHANGED)\n",
    "img_filtered_op = Image.fromarray(img_filtered)\n",
    "img_filtered_op.show()"
   ]
  },
  {
   "cell_type": "markdown",
   "metadata": {},
   "source": [
    "## 1.2) <u>Gaussian Filter Using OpenCV Package</u>"
   ]
  },
  {
   "cell_type": "code",
   "execution_count": 4,
   "metadata": {},
   "outputs": [
    {
     "name": "stdout",
     "output_type": "stream",
     "text": [
      "[[[134  98  58]\n",
      "  [134  98  58]\n",
      "  [134  98  58]\n",
      "  ...\n",
      "  [151 124  98]\n",
      "  [151 124  98]\n",
      "  [151 124  98]]\n",
      "\n",
      " [[134  98  58]\n",
      "  [134  98  58]\n",
      "  [134  98  58]\n",
      "  ...\n",
      "  [151 124  98]\n",
      "  [151 124  98]\n",
      "  [151 124  98]]\n",
      "\n",
      " [[134  98  58]\n",
      "  [134  98  58]\n",
      "  [134  98  58]\n",
      "  ...\n",
      "  [151 124  98]\n",
      "  [151 124  98]\n",
      "  [151 124  98]]\n",
      "\n",
      " ...\n",
      "\n",
      " [[ 78 141 167]\n",
      "  [ 78 141 167]\n",
      "  [ 79 142 167]\n",
      "  ...\n",
      "  [ 30  80 114]\n",
      "  [ 30  78 112]\n",
      "  [ 29  78 112]]\n",
      "\n",
      " [[ 78 141 166]\n",
      "  [ 78 141 166]\n",
      "  [ 79 141 167]\n",
      "  ...\n",
      "  [ 30  81 115]\n",
      "  [ 30  79 113]\n",
      "  [ 30  78 112]]\n",
      "\n",
      " [[ 78 141 166]\n",
      "  [ 78 141 166]\n",
      "  [ 79 141 167]\n",
      "  ...\n",
      "  [ 31  81 115]\n",
      "  [ 30  79 113]\n",
      "  [ 30  78 112]]]\n"
     ]
    },
    {
     "ename": "NameError",
     "evalue": "name 'img_filtered' is not defined",
     "output_type": "error",
     "traceback": [
      "\u001b[1;31m---------------------------------------------------------------------------\u001b[0m",
      "\u001b[1;31mNameError\u001b[0m                                 Traceback (most recent call last)",
      "Cell \u001b[1;32mIn[4], line 11\u001b[0m\n\u001b[0;32m      9\u001b[0m blurred_img \u001b[39m=\u001b[39m np\u001b[39m.\u001b[39masarray(blurred_img, dtype \u001b[39m=\u001b[39m \u001b[39m\"\u001b[39m\u001b[39muint8\u001b[39m\u001b[39m\"\u001b[39m)\n\u001b[0;32m     10\u001b[0m \u001b[39mprint\u001b[39m(blurred_img)\n\u001b[1;32m---> 11\u001b[0m \u001b[39mprint\u001b[39m(img_filtered)\n\u001b[0;32m     12\u001b[0m \u001b[39mprint\u001b[39m(np\u001b[39m.\u001b[39mall(blurred_img \u001b[39m==\u001b[39m img_filtered))\n",
      "\u001b[1;31mNameError\u001b[0m: name 'img_filtered' is not defined"
     ]
    }
   ],
   "source": [
    "img = cv2.imread(\"C:\\\\Users\\\\BassilOraby\\\\Downloads\\\\Lion.jpg\")\n",
    "# How come do we pass as parameters the kernel size and the sigma to the gaussianBlur function at the same time? isn't the sigma parameter suppossed to be \n",
    "# utilized in deciding the Kernel size ?\n",
    "# Howa el X fee el sigma Horizontal wala Vertical ?\n",
    "blurred_img = cv2.GaussianBlur(img, (101, 101), sigmaX=4)\n",
    "cv2.imwrite(\"c:\\\\Users\\\\BassilOraby\\\\Downloads\\\\blurred_image.jpg\", blurred_img)\n",
    "output = Image.open(\"c:\\\\Users\\\\BassilOraby\\\\Downloads\\\\blurred_image.jpg\")\n",
    "output.show()\n",
    "blurred_img = np.asarray(blurred_img, dtype = \"uint8\")\n",
    "print(blurred_img)\n",
    "print(img_filtered)\n",
    "print(np.all(blurred_img == img_filtered))"
   ]
  },
  {
   "cell_type": "markdown",
   "metadata": {},
   "source": [
    "# 2) <u>Canny Edge Detector</u>"
   ]
  },
  {
   "cell_type": "markdown",
   "metadata": {},
   "source": [
    "## 2.1) <u>Canny Edge Detector From Scratch</u>"
   ]
  },
  {
   "cell_type": "code",
   "execution_count": 5,
   "metadata": {},
   "outputs": [],
   "source": [
    "def sobel_filters(img):\n",
    "    Kx = np.array([[-1, 0, 1], [-2, 0, 2], [-1, 0, 1]], np.float32)\n",
    "    Ky = np.array([[1, 2, 1], [0, 0, 0], [-1, -2, -1]], np.float32)\n",
    "    \n",
    "    Ix = convolution(img, Kx)\n",
    "    Iy = convolution(img, Ky)\n",
    "    \n",
    "    G = np.hypot(Ix, Iy)\n",
    "    print(f\"G before: {G}\")\n",
    "    G = G / G.max() * 255\n",
    "    print(f\"G after: {G}\")\n",
    "    theta = np.arctan2(Iy, Ix)\n",
    "    \n",
    "    return (G, theta)"
   ]
  },
  {
   "cell_type": "code",
   "execution_count": 6,
   "metadata": {},
   "outputs": [],
   "source": [
    "def non_max_suppression(img, D):\n",
    "    M, N = img.shape\n",
    "    Z = np.zeros((M,N), dtype=np.int32)\n",
    "    angle = D * 180. / np.pi\n",
    "    angle[angle < 0] += 180\n",
    "\n",
    "    \n",
    "    for i in range(1,M-1):\n",
    "        for j in range(1,N-1):\n",
    "            try:\n",
    "                q = 255\n",
    "                r = 255\n",
    "                \n",
    "               #angle 0\n",
    "                if (0 <= angle[i,j] < 22.5) or (157.5 <= angle[i,j] <= 180):\n",
    "                    q = img[i, j+1]\n",
    "                    r = img[i, j-1]\n",
    "                #angle 45\n",
    "                elif (22.5 <= angle[i,j] < 67.5):\n",
    "                    q = img[i+1, j-1]\n",
    "                    r = img[i-1, j+1]\n",
    "                #angle 90\n",
    "                elif (67.5 <= angle[i,j] < 112.5):\n",
    "                    q = img[i+1, j]\n",
    "                    r = img[i-1, j]\n",
    "                #angle 135\n",
    "                elif (112.5 <= angle[i,j] < 157.5):\n",
    "                    q = img[i-1, j-1]\n",
    "                    r = img[i+1, j+1]\n",
    "\n",
    "                if (img[i,j] >= q) and (img[i,j] >= r):\n",
    "                    Z[i,j] = img[i,j]\n",
    "                else:\n",
    "                    Z[i,j] = 0\n",
    "\n",
    "            except IndexError as e:\n",
    "                pass\n",
    "    \n",
    "    return Z"
   ]
  },
  {
   "cell_type": "code",
   "execution_count": 8,
   "metadata": {},
   "outputs": [],
   "source": [
    "def threshold(img, lowThresholdRatio=0.05, highThresholdRatio=0.09):\n",
    "    \n",
    "    highThreshold = img.max() * highThresholdRatio;\n",
    "    lowThreshold = highThreshold * lowThresholdRatio;\n",
    "    \n",
    "    M, N = img.shape\n",
    "    res = np.zeros((M,N), dtype=np.int32)\n",
    "    \n",
    "    weak = 25\n",
    "    strong = 255\n",
    "    \n",
    "    strong_i, strong_j = np.where(img >= highThreshold)\n",
    "    print(f\"Strong_i: {strong_i}, strong_j: {strong_j}\")\n",
    "    zeros_i, zeros_j = np.where(img < lowThreshold)\n",
    "    \n",
    "    weak_i, weak_j = np.where((img <= highThreshold) & (img >= lowThreshold))\n",
    "    \n",
    "    res[strong_i, strong_j] = strong\n",
    "    res[weak_i, weak_j] = weak\n",
    "    \n",
    "    return (res, weak, strong)"
   ]
  },
  {
   "cell_type": "code",
   "execution_count": 9,
   "metadata": {},
   "outputs": [],
   "source": [
    "def hysteresis(img, weak, strong=255):\n",
    "    M, N = img.shape  \n",
    "    for i in range(1, M-1):\n",
    "        for j in range(1, N-1):\n",
    "            if (img[i,j] == weak):\n",
    "                try:\n",
    "                    if ((img[i+1, j-1] == strong) or (img[i+1, j] == strong) or (img[i+1, j+1] == strong)\n",
    "                        or (img[i, j-1] == strong) or (img[i, j+1] == strong)\n",
    "                        or (img[i-1, j-1] == strong) or (img[i-1, j] == strong) or (img[i-1, j+1] == strong)):\n",
    "                        img[i, j] = strong\n",
    "                    else:\n",
    "                        img[i, j] = 0\n",
    "                except IndexError as e:\n",
    "                    pass\n",
    "    return img"
   ]
  },
  {
   "cell_type": "code",
   "execution_count": 34,
   "metadata": {},
   "outputs": [
    {
     "name": "stdout",
     "output_type": "stream",
     "text": [
      "G before: [[140.00714267 149.83324064 170.31735085 ... 225.72992713 199.64969321\n",
      "  188.0904038 ]\n",
      " [149.83324064  60.81118318  62.48199741 ...  81.05553652  79.19595949\n",
      "  199.64969321]\n",
      " [170.31735085  62.48199741  62.22539674 ...  80.61017306  81.05553652\n",
      "  225.72992713]\n",
      " ...\n",
      " [269.29537686 104.20172743 101.83319694 ...  65.80273551  64.14047084\n",
      "  155.56349186]\n",
      " [236.91348632 101.83319694 103.5857133  ...  66.46803743  62.48199741\n",
      "  138.46299145]\n",
      " [220.61731573 237.32677894 271.10514565 ... 163.16862443 139.71399357\n",
      "  128.70120435]]\n",
      "G after: [[ 61.55486445  65.87495925  74.88090425 ...  99.24333003  87.77702029\n",
      "   82.69491891]\n",
      " [ 65.87495925  26.73595123  27.47053334 ...  35.63648588  34.81891323\n",
      "   87.77702029]\n",
      " [ 74.88090425  27.47053334  27.35771753 ...  35.44067953  35.63648588\n",
      "   99.24333003]\n",
      " ...\n",
      " [118.39710535  45.81282844  44.77149176 ...  28.93051302  28.19968977\n",
      "   68.39429384]\n",
      " [104.16023967  44.77149176  45.54199464 ...  29.22301646  27.47053334\n",
      "   60.87597038]\n",
      " [ 96.99554398 104.34194591 119.19277955 ...  71.73792971  61.42597993\n",
      "   56.58415019]]\n",
      "Strong_i: [   2    2   37 ... 1077 1077 1077], strong_j: [   2 1917 1183 ... 1822 1916 1917]\n"
     ]
    }
   ],
   "source": [
    "npImage = GaussianBlurImage(\"C:\\\\Users\\\\BassilOraby\\\\Downloads\\\\Lion.jpg\", 4)\n",
    "G, theta = sobel_filters(npImage)\n",
    "#imagePreview = Image.fromarray(G)\n",
    "#imagePreview.show()\n",
    "Z = non_max_suppression(G, theta)\n",
    "#imagePreview = Image.fromarray(Z)\n",
    "#imagePreview.show()\n",
    "threshold_img, w, s = threshold(Z, 0.01, 0.05)\n",
    "#imagePreview = Image.fromarray(threshold_img)\n",
    "#imagePreview.show()\n",
    "final_op = hysteresis(threshold_img, w, s)\n",
    "imagePreview = Image.fromarray(final_op)\n",
    "imagePreview.show()"
   ]
  },
  {
   "cell_type": "markdown",
   "metadata": {},
   "source": [
    "## 2.2) <u>Canny Edge Detector Using OpenCV"
   ]
  },
  {
   "cell_type": "code",
   "execution_count": 35,
   "metadata": {},
   "outputs": [
    {
     "data": {
      "text/plain": [
       "True"
      ]
     },
     "execution_count": 35,
     "metadata": {},
     "output_type": "execute_result"
    }
   ],
   "source": [
    "img_ocv = cv2.imread(\"C:\\\\Users\\\\BassilOraby\\\\Downloads\\\\Lion.jpg\", cv2.IMREAD_GRAYSCALE)\n",
    "blur = cv2.GaussianBlur(img_ocv, (9, 9), 4)\n",
    "edges = cv2.Canny(blur, 0.1, 25)\n",
    "cv2.imwrite(\"c:\\\\Users\\\\BassilOraby\\\\Downloads\\\\edges_image.jpg\", edges)\n",
    "#cv2.imshow(\"Original\", img_ocv)\n",
    "#cv2.imshow(\"Edges\", edges)\n",
    "#cv2.waitKey(0)\n",
    "#cv2.destroyAllWindows()"
   ]
  }
 ],
 "metadata": {
  "kernelspec": {
   "display_name": "Python 3",
   "language": "python",
   "name": "python3"
  },
  "language_info": {
   "codemirror_mode": {
    "name": "ipython",
    "version": 3
   },
   "file_extension": ".py",
   "mimetype": "text/x-python",
   "name": "python",
   "nbconvert_exporter": "python",
   "pygments_lexer": "ipython3",
   "version": "3.11.4"
  },
  "orig_nbformat": 4
 },
 "nbformat": 4,
 "nbformat_minor": 2
}
