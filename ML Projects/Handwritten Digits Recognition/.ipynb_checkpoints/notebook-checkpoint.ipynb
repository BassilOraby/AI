{
 "cells": [
  {
   "cell_type": "markdown",
   "id": "472eb12a",
   "metadata": {},
   "source": [
    "# Handwritten digits recognition drawing app\n",
    "\n",
    "<p>In this project, we will attempt to recognize handwritten digits drawn in drawing app using Convolutional Neural Networks !</p>"
   ]
  }
 ],
 "metadata": {
  "kernelspec": {
   "display_name": "Python 3.10",
   "language": "python",
   "name": "local-venv"
  },
  "language_info": {
   "codemirror_mode": {
    "name": "ipython",
    "version": 3
   },
   "file_extension": ".py",
   "mimetype": "text/x-python",
   "name": "python",
   "nbconvert_exporter": "python",
   "pygments_lexer": "ipython3",
   "version": "3.10.4"
  }
 },
 "nbformat": 4,
 "nbformat_minor": 5
}
